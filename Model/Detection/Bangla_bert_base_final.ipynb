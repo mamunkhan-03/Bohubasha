{
  "nbformat": 4,
  "nbformat_minor": 0,
  "metadata": {
    "colab": {
      "provenance": [],
      "machine_shape": "hm",
      "gpuType": "A100"
    },
    "kernelspec": {
      "name": "python3",
      "display_name": "Python 3"
    },
    "language_info": {
      "name": "python"
    },
    "accelerator": "GPU",
    "widgets": {
      "application/vnd.jupyter.widget-state+json": {
        "bbaa698a528e4e41b574404df5a55615": {
          "model_module": "@jupyter-widgets/controls",
          "model_name": "HBoxModel",
          "model_module_version": "1.5.0",
          "state": {
            "_dom_classes": [],
            "_model_module": "@jupyter-widgets/controls",
            "_model_module_version": "1.5.0",
            "_model_name": "HBoxModel",
            "_view_count": null,
            "_view_module": "@jupyter-widgets/controls",
            "_view_module_version": "1.5.0",
            "_view_name": "HBoxView",
            "box_style": "",
            "children": [
              "IPY_MODEL_4d32da93110a436e9426c4c3a938fecd",
              "IPY_MODEL_f4fdeb0488294145820f53dbea1fa37a",
              "IPY_MODEL_31c3fb4451ac42c7bd9f7ff37564aca2"
            ],
            "layout": "IPY_MODEL_99fc59752973491b97bef6bd53cd8bbe"
          }
        },
        "4d32da93110a436e9426c4c3a938fecd": {
          "model_module": "@jupyter-widgets/controls",
          "model_name": "HTMLModel",
          "model_module_version": "1.5.0",
          "state": {
            "_dom_classes": [],
            "_model_module": "@jupyter-widgets/controls",
            "_model_module_version": "1.5.0",
            "_model_name": "HTMLModel",
            "_view_count": null,
            "_view_module": "@jupyter-widgets/controls",
            "_view_module_version": "1.5.0",
            "_view_name": "HTMLView",
            "description": "",
            "description_tooltip": null,
            "layout": "IPY_MODEL_f0615e95a3cf481b9b11eadc5d9e7886",
            "placeholder": "​",
            "style": "IPY_MODEL_2e8668d369c4491cae85b173ccf30328",
            "value": "vocab.txt: 100%"
          }
        },
        "f4fdeb0488294145820f53dbea1fa37a": {
          "model_module": "@jupyter-widgets/controls",
          "model_name": "FloatProgressModel",
          "model_module_version": "1.5.0",
          "state": {
            "_dom_classes": [],
            "_model_module": "@jupyter-widgets/controls",
            "_model_module_version": "1.5.0",
            "_model_name": "FloatProgressModel",
            "_view_count": null,
            "_view_module": "@jupyter-widgets/controls",
            "_view_module_version": "1.5.0",
            "_view_name": "ProgressView",
            "bar_style": "success",
            "description": "",
            "description_tooltip": null,
            "layout": "IPY_MODEL_91ca5759c35e4888bf8d78895b5a9a92",
            "max": 2237676,
            "min": 0,
            "orientation": "horizontal",
            "style": "IPY_MODEL_bfb75294b2874b7ba740c91260def2fd",
            "value": 2237676
          }
        },
        "31c3fb4451ac42c7bd9f7ff37564aca2": {
          "model_module": "@jupyter-widgets/controls",
          "model_name": "HTMLModel",
          "model_module_version": "1.5.0",
          "state": {
            "_dom_classes": [],
            "_model_module": "@jupyter-widgets/controls",
            "_model_module_version": "1.5.0",
            "_model_name": "HTMLModel",
            "_view_count": null,
            "_view_module": "@jupyter-widgets/controls",
            "_view_module_version": "1.5.0",
            "_view_name": "HTMLView",
            "description": "",
            "description_tooltip": null,
            "layout": "IPY_MODEL_5a5578710bbf4f9bb1bac298e84a078a",
            "placeholder": "​",
            "style": "IPY_MODEL_090dd9213f754eaa9a3f81dc9eaf1945",
            "value": " 2.24M/2.24M [00:00&lt;00:00, 11.5MB/s]"
          }
        },
        "99fc59752973491b97bef6bd53cd8bbe": {
          "model_module": "@jupyter-widgets/base",
          "model_name": "LayoutModel",
          "model_module_version": "1.2.0",
          "state": {
            "_model_module": "@jupyter-widgets/base",
            "_model_module_version": "1.2.0",
            "_model_name": "LayoutModel",
            "_view_count": null,
            "_view_module": "@jupyter-widgets/base",
            "_view_module_version": "1.2.0",
            "_view_name": "LayoutView",
            "align_content": null,
            "align_items": null,
            "align_self": null,
            "border": null,
            "bottom": null,
            "display": null,
            "flex": null,
            "flex_flow": null,
            "grid_area": null,
            "grid_auto_columns": null,
            "grid_auto_flow": null,
            "grid_auto_rows": null,
            "grid_column": null,
            "grid_gap": null,
            "grid_row": null,
            "grid_template_areas": null,
            "grid_template_columns": null,
            "grid_template_rows": null,
            "height": null,
            "justify_content": null,
            "justify_items": null,
            "left": null,
            "margin": null,
            "max_height": null,
            "max_width": null,
            "min_height": null,
            "min_width": null,
            "object_fit": null,
            "object_position": null,
            "order": null,
            "overflow": null,
            "overflow_x": null,
            "overflow_y": null,
            "padding": null,
            "right": null,
            "top": null,
            "visibility": null,
            "width": null
          }
        },
        "f0615e95a3cf481b9b11eadc5d9e7886": {
          "model_module": "@jupyter-widgets/base",
          "model_name": "LayoutModel",
          "model_module_version": "1.2.0",
          "state": {
            "_model_module": "@jupyter-widgets/base",
            "_model_module_version": "1.2.0",
            "_model_name": "LayoutModel",
            "_view_count": null,
            "_view_module": "@jupyter-widgets/base",
            "_view_module_version": "1.2.0",
            "_view_name": "LayoutView",
            "align_content": null,
            "align_items": null,
            "align_self": null,
            "border": null,
            "bottom": null,
            "display": null,
            "flex": null,
            "flex_flow": null,
            "grid_area": null,
            "grid_auto_columns": null,
            "grid_auto_flow": null,
            "grid_auto_rows": null,
            "grid_column": null,
            "grid_gap": null,
            "grid_row": null,
            "grid_template_areas": null,
            "grid_template_columns": null,
            "grid_template_rows": null,
            "height": null,
            "justify_content": null,
            "justify_items": null,
            "left": null,
            "margin": null,
            "max_height": null,
            "max_width": null,
            "min_height": null,
            "min_width": null,
            "object_fit": null,
            "object_position": null,
            "order": null,
            "overflow": null,
            "overflow_x": null,
            "overflow_y": null,
            "padding": null,
            "right": null,
            "top": null,
            "visibility": null,
            "width": null
          }
        },
        "2e8668d369c4491cae85b173ccf30328": {
          "model_module": "@jupyter-widgets/controls",
          "model_name": "DescriptionStyleModel",
          "model_module_version": "1.5.0",
          "state": {
            "_model_module": "@jupyter-widgets/controls",
            "_model_module_version": "1.5.0",
            "_model_name": "DescriptionStyleModel",
            "_view_count": null,
            "_view_module": "@jupyter-widgets/base",
            "_view_module_version": "1.2.0",
            "_view_name": "StyleView",
            "description_width": ""
          }
        },
        "91ca5759c35e4888bf8d78895b5a9a92": {
          "model_module": "@jupyter-widgets/base",
          "model_name": "LayoutModel",
          "model_module_version": "1.2.0",
          "state": {
            "_model_module": "@jupyter-widgets/base",
            "_model_module_version": "1.2.0",
            "_model_name": "LayoutModel",
            "_view_count": null,
            "_view_module": "@jupyter-widgets/base",
            "_view_module_version": "1.2.0",
            "_view_name": "LayoutView",
            "align_content": null,
            "align_items": null,
            "align_self": null,
            "border": null,
            "bottom": null,
            "display": null,
            "flex": null,
            "flex_flow": null,
            "grid_area": null,
            "grid_auto_columns": null,
            "grid_auto_flow": null,
            "grid_auto_rows": null,
            "grid_column": null,
            "grid_gap": null,
            "grid_row": null,
            "grid_template_areas": null,
            "grid_template_columns": null,
            "grid_template_rows": null,
            "height": null,
            "justify_content": null,
            "justify_items": null,
            "left": null,
            "margin": null,
            "max_height": null,
            "max_width": null,
            "min_height": null,
            "min_width": null,
            "object_fit": null,
            "object_position": null,
            "order": null,
            "overflow": null,
            "overflow_x": null,
            "overflow_y": null,
            "padding": null,
            "right": null,
            "top": null,
            "visibility": null,
            "width": null
          }
        },
        "bfb75294b2874b7ba740c91260def2fd": {
          "model_module": "@jupyter-widgets/controls",
          "model_name": "ProgressStyleModel",
          "model_module_version": "1.5.0",
          "state": {
            "_model_module": "@jupyter-widgets/controls",
            "_model_module_version": "1.5.0",
            "_model_name": "ProgressStyleModel",
            "_view_count": null,
            "_view_module": "@jupyter-widgets/base",
            "_view_module_version": "1.2.0",
            "_view_name": "StyleView",
            "bar_color": null,
            "description_width": ""
          }
        },
        "5a5578710bbf4f9bb1bac298e84a078a": {
          "model_module": "@jupyter-widgets/base",
          "model_name": "LayoutModel",
          "model_module_version": "1.2.0",
          "state": {
            "_model_module": "@jupyter-widgets/base",
            "_model_module_version": "1.2.0",
            "_model_name": "LayoutModel",
            "_view_count": null,
            "_view_module": "@jupyter-widgets/base",
            "_view_module_version": "1.2.0",
            "_view_name": "LayoutView",
            "align_content": null,
            "align_items": null,
            "align_self": null,
            "border": null,
            "bottom": null,
            "display": null,
            "flex": null,
            "flex_flow": null,
            "grid_area": null,
            "grid_auto_columns": null,
            "grid_auto_flow": null,
            "grid_auto_rows": null,
            "grid_column": null,
            "grid_gap": null,
            "grid_row": null,
            "grid_template_areas": null,
            "grid_template_columns": null,
            "grid_template_rows": null,
            "height": null,
            "justify_content": null,
            "justify_items": null,
            "left": null,
            "margin": null,
            "max_height": null,
            "max_width": null,
            "min_height": null,
            "min_width": null,
            "object_fit": null,
            "object_position": null,
            "order": null,
            "overflow": null,
            "overflow_x": null,
            "overflow_y": null,
            "padding": null,
            "right": null,
            "top": null,
            "visibility": null,
            "width": null
          }
        },
        "090dd9213f754eaa9a3f81dc9eaf1945": {
          "model_module": "@jupyter-widgets/controls",
          "model_name": "DescriptionStyleModel",
          "model_module_version": "1.5.0",
          "state": {
            "_model_module": "@jupyter-widgets/controls",
            "_model_module_version": "1.5.0",
            "_model_name": "DescriptionStyleModel",
            "_view_count": null,
            "_view_module": "@jupyter-widgets/base",
            "_view_module_version": "1.2.0",
            "_view_name": "StyleView",
            "description_width": ""
          }
        },
        "620468df29944f9c8613448f22c5217f": {
          "model_module": "@jupyter-widgets/controls",
          "model_name": "HBoxModel",
          "model_module_version": "1.5.0",
          "state": {
            "_dom_classes": [],
            "_model_module": "@jupyter-widgets/controls",
            "_model_module_version": "1.5.0",
            "_model_name": "HBoxModel",
            "_view_count": null,
            "_view_module": "@jupyter-widgets/controls",
            "_view_module_version": "1.5.0",
            "_view_name": "HBoxView",
            "box_style": "",
            "children": [
              "IPY_MODEL_efb3615b9fb14252b0f3c6aca36de780",
              "IPY_MODEL_290890c56b2a446c9fb44848d2697fd3",
              "IPY_MODEL_e3cc64e3ead24e579f34450c55787526"
            ],
            "layout": "IPY_MODEL_7ab15277325547c7aea21203cdeed7b2"
          }
        },
        "efb3615b9fb14252b0f3c6aca36de780": {
          "model_module": "@jupyter-widgets/controls",
          "model_name": "HTMLModel",
          "model_module_version": "1.5.0",
          "state": {
            "_dom_classes": [],
            "_model_module": "@jupyter-widgets/controls",
            "_model_module_version": "1.5.0",
            "_model_name": "HTMLModel",
            "_view_count": null,
            "_view_module": "@jupyter-widgets/controls",
            "_view_module_version": "1.5.0",
            "_view_name": "HTMLView",
            "description": "",
            "description_tooltip": null,
            "layout": "IPY_MODEL_123140e1bb5b4a86b06420012f45bfab",
            "placeholder": "​",
            "style": "IPY_MODEL_0369a19841f8490897909cfb987e500f",
            "value": "config.json: 100%"
          }
        },
        "290890c56b2a446c9fb44848d2697fd3": {
          "model_module": "@jupyter-widgets/controls",
          "model_name": "FloatProgressModel",
          "model_module_version": "1.5.0",
          "state": {
            "_dom_classes": [],
            "_model_module": "@jupyter-widgets/controls",
            "_model_module_version": "1.5.0",
            "_model_name": "FloatProgressModel",
            "_view_count": null,
            "_view_module": "@jupyter-widgets/controls",
            "_view_module_version": "1.5.0",
            "_view_name": "ProgressView",
            "bar_style": "success",
            "description": "",
            "description_tooltip": null,
            "layout": "IPY_MODEL_f5fcb47a527548e0bcab23020e723bc9",
            "max": 491,
            "min": 0,
            "orientation": "horizontal",
            "style": "IPY_MODEL_58d590b8f4ab4581a5274d0f3c7c0db3",
            "value": 491
          }
        },
        "e3cc64e3ead24e579f34450c55787526": {
          "model_module": "@jupyter-widgets/controls",
          "model_name": "HTMLModel",
          "model_module_version": "1.5.0",
          "state": {
            "_dom_classes": [],
            "_model_module": "@jupyter-widgets/controls",
            "_model_module_version": "1.5.0",
            "_model_name": "HTMLModel",
            "_view_count": null,
            "_view_module": "@jupyter-widgets/controls",
            "_view_module_version": "1.5.0",
            "_view_name": "HTMLView",
            "description": "",
            "description_tooltip": null,
            "layout": "IPY_MODEL_67f2f14e359e41df82befe97684eb844",
            "placeholder": "​",
            "style": "IPY_MODEL_967e389dd6d744189a3f5729355de5de",
            "value": " 491/491 [00:00&lt;00:00, 62.5kB/s]"
          }
        },
        "7ab15277325547c7aea21203cdeed7b2": {
          "model_module": "@jupyter-widgets/base",
          "model_name": "LayoutModel",
          "model_module_version": "1.2.0",
          "state": {
            "_model_module": "@jupyter-widgets/base",
            "_model_module_version": "1.2.0",
            "_model_name": "LayoutModel",
            "_view_count": null,
            "_view_module": "@jupyter-widgets/base",
            "_view_module_version": "1.2.0",
            "_view_name": "LayoutView",
            "align_content": null,
            "align_items": null,
            "align_self": null,
            "border": null,
            "bottom": null,
            "display": null,
            "flex": null,
            "flex_flow": null,
            "grid_area": null,
            "grid_auto_columns": null,
            "grid_auto_flow": null,
            "grid_auto_rows": null,
            "grid_column": null,
            "grid_gap": null,
            "grid_row": null,
            "grid_template_areas": null,
            "grid_template_columns": null,
            "grid_template_rows": null,
            "height": null,
            "justify_content": null,
            "justify_items": null,
            "left": null,
            "margin": null,
            "max_height": null,
            "max_width": null,
            "min_height": null,
            "min_width": null,
            "object_fit": null,
            "object_position": null,
            "order": null,
            "overflow": null,
            "overflow_x": null,
            "overflow_y": null,
            "padding": null,
            "right": null,
            "top": null,
            "visibility": null,
            "width": null
          }
        },
        "123140e1bb5b4a86b06420012f45bfab": {
          "model_module": "@jupyter-widgets/base",
          "model_name": "LayoutModel",
          "model_module_version": "1.2.0",
          "state": {
            "_model_module": "@jupyter-widgets/base",
            "_model_module_version": "1.2.0",
            "_model_name": "LayoutModel",
            "_view_count": null,
            "_view_module": "@jupyter-widgets/base",
            "_view_module_version": "1.2.0",
            "_view_name": "LayoutView",
            "align_content": null,
            "align_items": null,
            "align_self": null,
            "border": null,
            "bottom": null,
            "display": null,
            "flex": null,
            "flex_flow": null,
            "grid_area": null,
            "grid_auto_columns": null,
            "grid_auto_flow": null,
            "grid_auto_rows": null,
            "grid_column": null,
            "grid_gap": null,
            "grid_row": null,
            "grid_template_areas": null,
            "grid_template_columns": null,
            "grid_template_rows": null,
            "height": null,
            "justify_content": null,
            "justify_items": null,
            "left": null,
            "margin": null,
            "max_height": null,
            "max_width": null,
            "min_height": null,
            "min_width": null,
            "object_fit": null,
            "object_position": null,
            "order": null,
            "overflow": null,
            "overflow_x": null,
            "overflow_y": null,
            "padding": null,
            "right": null,
            "top": null,
            "visibility": null,
            "width": null
          }
        },
        "0369a19841f8490897909cfb987e500f": {
          "model_module": "@jupyter-widgets/controls",
          "model_name": "DescriptionStyleModel",
          "model_module_version": "1.5.0",
          "state": {
            "_model_module": "@jupyter-widgets/controls",
            "_model_module_version": "1.5.0",
            "_model_name": "DescriptionStyleModel",
            "_view_count": null,
            "_view_module": "@jupyter-widgets/base",
            "_view_module_version": "1.2.0",
            "_view_name": "StyleView",
            "description_width": ""
          }
        },
        "f5fcb47a527548e0bcab23020e723bc9": {
          "model_module": "@jupyter-widgets/base",
          "model_name": "LayoutModel",
          "model_module_version": "1.2.0",
          "state": {
            "_model_module": "@jupyter-widgets/base",
            "_model_module_version": "1.2.0",
            "_model_name": "LayoutModel",
            "_view_count": null,
            "_view_module": "@jupyter-widgets/base",
            "_view_module_version": "1.2.0",
            "_view_name": "LayoutView",
            "align_content": null,
            "align_items": null,
            "align_self": null,
            "border": null,
            "bottom": null,
            "display": null,
            "flex": null,
            "flex_flow": null,
            "grid_area": null,
            "grid_auto_columns": null,
            "grid_auto_flow": null,
            "grid_auto_rows": null,
            "grid_column": null,
            "grid_gap": null,
            "grid_row": null,
            "grid_template_areas": null,
            "grid_template_columns": null,
            "grid_template_rows": null,
            "height": null,
            "justify_content": null,
            "justify_items": null,
            "left": null,
            "margin": null,
            "max_height": null,
            "max_width": null,
            "min_height": null,
            "min_width": null,
            "object_fit": null,
            "object_position": null,
            "order": null,
            "overflow": null,
            "overflow_x": null,
            "overflow_y": null,
            "padding": null,
            "right": null,
            "top": null,
            "visibility": null,
            "width": null
          }
        },
        "58d590b8f4ab4581a5274d0f3c7c0db3": {
          "model_module": "@jupyter-widgets/controls",
          "model_name": "ProgressStyleModel",
          "model_module_version": "1.5.0",
          "state": {
            "_model_module": "@jupyter-widgets/controls",
            "_model_module_version": "1.5.0",
            "_model_name": "ProgressStyleModel",
            "_view_count": null,
            "_view_module": "@jupyter-widgets/base",
            "_view_module_version": "1.2.0",
            "_view_name": "StyleView",
            "bar_color": null,
            "description_width": ""
          }
        },
        "67f2f14e359e41df82befe97684eb844": {
          "model_module": "@jupyter-widgets/base",
          "model_name": "LayoutModel",
          "model_module_version": "1.2.0",
          "state": {
            "_model_module": "@jupyter-widgets/base",
            "_model_module_version": "1.2.0",
            "_model_name": "LayoutModel",
            "_view_count": null,
            "_view_module": "@jupyter-widgets/base",
            "_view_module_version": "1.2.0",
            "_view_name": "LayoutView",
            "align_content": null,
            "align_items": null,
            "align_self": null,
            "border": null,
            "bottom": null,
            "display": null,
            "flex": null,
            "flex_flow": null,
            "grid_area": null,
            "grid_auto_columns": null,
            "grid_auto_flow": null,
            "grid_auto_rows": null,
            "grid_column": null,
            "grid_gap": null,
            "grid_row": null,
            "grid_template_areas": null,
            "grid_template_columns": null,
            "grid_template_rows": null,
            "height": null,
            "justify_content": null,
            "justify_items": null,
            "left": null,
            "margin": null,
            "max_height": null,
            "max_width": null,
            "min_height": null,
            "min_width": null,
            "object_fit": null,
            "object_position": null,
            "order": null,
            "overflow": null,
            "overflow_x": null,
            "overflow_y": null,
            "padding": null,
            "right": null,
            "top": null,
            "visibility": null,
            "width": null
          }
        },
        "967e389dd6d744189a3f5729355de5de": {
          "model_module": "@jupyter-widgets/controls",
          "model_name": "DescriptionStyleModel",
          "model_module_version": "1.5.0",
          "state": {
            "_model_module": "@jupyter-widgets/controls",
            "_model_module_version": "1.5.0",
            "_model_name": "DescriptionStyleModel",
            "_view_count": null,
            "_view_module": "@jupyter-widgets/base",
            "_view_module_version": "1.2.0",
            "_view_name": "StyleView",
            "description_width": ""
          }
        }
      }
    }
  },
  "cells": [
    {
      "cell_type": "code",
      "execution_count": null,
      "metadata": {
        "id": "1ii8738QO6ae"
      },
      "outputs": [],
      "source": [
        "\n",
        "import pandas as pd\n",
        "import numpy as np\n",
        "import torch\n",
        "import os\n",
        "import json\n",
        "import matplotlib.pyplot as plt\n",
        "import seaborn as sns\n",
        "from transformers import BertTokenizer, BertForSequenceClassification, Trainer, TrainingArguments, EarlyStoppingCallback\n",
        "from sklearn.model_selection import train_test_split, KFold\n",
        "from sklearn.metrics import accuracy_score, precision_recall_fscore_support, confusion_matrix\n",
        "import random\n",
        "import shutil\n",
        "from google.colab import drive, files\n"
      ]
    },
    {
      "cell_type": "code",
      "source": [
        "# Mount Google Drive to access datasets\n",
        "try:\n",
        "    drive.mount('/content/drive')\n",
        "    print(\"Google Drive mounted successfully!\")\n",
        "except:\n",
        "    print(\"Running in a local environment without Google Drive access.\")\n",
        "\n",
        "# Define paths for datasets\n",
        "datasets = {\n",
        "    \"Barishal\": \"/content/drive/MyDrive/Dataset/Barishal/Barishal Text Translation.csv\",\n",
        "    \"Chittagong\": \"/content/drive/MyDrive/Dataset/Chittagong/Chittagong Text Translation.csv\",\n",
        "    \"Noakhali\": \"/content/drive/MyDrive/Dataset/Noakhali/Noakhali Text Translation.csv\",\n",
        "    \"Sylhet\": \"/content/drive/MyDrive/Dataset/Sylhet/Sylhet Text Translation.csv\",\n",
        "    \"Mymensingh\": \"/content/drive/MyDrive/Dataset/Mymensingh/Mymensingh Text Translation.csv\"\n",
        "}"
      ],
      "metadata": {
        "colab": {
          "base_uri": "https://localhost:8080/"
        },
        "id": "ALaXn68vffLL",
        "outputId": "6a11fa25-18e9-44d1-cb8d-5504110c2b6b"
      },
      "execution_count": null,
      "outputs": [
        {
          "output_type": "stream",
          "name": "stdout",
          "text": [
            "Mounted at /content/drive\n",
            "Google Drive mounted successfully!\n"
          ]
        }
      ]
    },
    {
      "cell_type": "code",
      "source": [
        "# Set random seeds for reproducibility\n",
        "def set_seed(seed=42):\n",
        "    random.seed(seed)\n",
        "    np.random.seed(seed)\n",
        "    torch.manual_seed(seed)\n",
        "    if torch.cuda.is_available():\n",
        "        torch.cuda.manual_seed_all(seed)\n",
        "    torch.backends.cudnn.deterministic = True\n",
        "\n",
        "set_seed()"
      ],
      "metadata": {
        "id": "pQ1kWofmggpY"
      },
      "execution_count": null,
      "outputs": []
    },
    {
      "cell_type": "code",
      "source": [
        "# Read all datasets into a dictionary of DataFrames\n",
        "dataframes = {region: pd.read_csv(path, encoding=\"utf-8\") for region, path in datasets.items()}\n"
      ],
      "metadata": {
        "id": "E435eOTpgrpd"
      },
      "execution_count": null,
      "outputs": []
    },
    {
      "cell_type": "code",
      "source": [
        "# Define the columns that represent the dialects\n",
        "region_columns = [\n",
        "    \"Barishal_Language\", \"Chittagong_Language\", \"Noakhali_Language\",\n",
        "    \"Sylhet_Language\", \"Mymensingh_Language\"\n",
        "]"
      ],
      "metadata": {
        "id": "W_55pM5Wg1HR"
      },
      "execution_count": null,
      "outputs": []
    },
    {
      "cell_type": "code",
      "source": [
        "# Data Augmentation for minority classes\n",
        "def augment_text(text):\n",
        "    \"\"\"Simple augmentation by character substitution for similar sounding characters\"\"\"\n",
        "    substitutions = {\n",
        "        'া': 'া', 'ি': 'ী', 'ু': 'ূ', 'ে': 'ৈ',\n",
        "        'ো': 'ৌ', 'ক': 'খ', 'গ': 'ঘ', 'চ': 'ছ',\n",
        "        'জ': 'য', 'ট': 'ঠ', 'ড': 'ঢ', 'ত': 'থ',\n",
        "        'দ': 'ধ', 'প': 'ফ', 'ব': 'ভ', 'স': 'শ'\n",
        "    }\n",
        "\n",
        "    augmented = list(text)\n",
        "    # Apply random substitutions with 15% probability per character\n",
        "    for idx, char in enumerate(augmented):\n",
        "        if char in substitutions and random.random() < 0.15:\n",
        "            augmented[idx] = substitutions[char]\n",
        "\n",
        "    return ''.join(augmented)"
      ],
      "metadata": {
        "id": "RkaIK388g5UL"
      },
      "execution_count": null,
      "outputs": []
    },
    {
      "cell_type": "code",
      "source": [
        "# Dialect-specific marker detection\n",
        "def add_dialect_marker_counts(df_long):\n",
        "    \"\"\"Add dialect marker counts as features\"\"\"\n",
        "    # Define dialect markers (these are examples - you should expand with real markers)\n",
        "    markers = {\n",
        "        'Sylhet': ['আইজ', 'আফনে', 'খাইছিন', 'খাইতাম', 'আইসলাম', 'কিতা'],\n",
        "        'Chittagong': ['আন্নে', 'নাকি', 'কুন', 'কেনে', 'আইচ্ছে', 'কইবা'],\n",
        "        'Barishal': ['আইতাছে', 'কইরা', 'হালা', 'কইন', 'কইরলাম', 'কইস'],\n",
        "        'Noakhali': ['আইয়া', 'গেলাম', 'কথা', 'কইতাম', 'খাইমু', 'ফোইলা'],\n",
        "        'Mymensingh': ['কইতাছে', 'আমরা', 'কইরেন', 'বাড়ি', 'খাইমু', 'কইলাম']\n",
        "    }\n",
        "\n",
        "    def count_dialect_markers(text, region):\n",
        "        \"\"\"Count how many dialect-specific markers are in the text\"\"\"\n",
        "        if region not in markers:\n",
        "            return 0\n",
        "\n",
        "        count = 0\n",
        "        for marker in markers[region]:\n",
        "            if marker in text:\n",
        "                count += 1\n",
        "        return count\n",
        "\n",
        "    # Add marker count feature\n",
        "    df_long['dialect_marker_count'] = df_long.apply(\n",
        "        lambda row: count_dialect_markers(row['Dialect_Text'], row['Region']),\n",
        "        axis=1\n",
        "    )\n",
        "\n",
        "    # Add text length feature\n",
        "    df_long['text_length'] = df_long['Dialect_Text'].apply(len)\n",
        "\n",
        "    return df_long\n"
      ],
      "metadata": {
        "id": "gd134kf8hI1G"
      },
      "execution_count": null,
      "outputs": []
    },
    {
      "cell_type": "code",
      "source": [
        "# Create a list to store transformed data\n",
        "data_list = []\n",
        "# Iterate over each region and create separate DataFrames\n",
        "for region_col in region_columns:\n",
        "    region_name = region_col.replace(\"_Language\", \"\")\n",
        "    print(f\"Processing region: {region_name}\")\n",
        "\n",
        "    matching_df = next((\n",
        "        df for df_region, df in dataframes.items()\n",
        "        if region_name.lower() in df_region.lower()\n",
        "        and region_col in df.columns\n",
        "        and \"Standard_Bangla_Language\" in df.columns\n",
        "    ), None)\n",
        "\n",
        "    if matching_df is not None:\n",
        "        print(f\"Found matching dataframe for {region_name}\")\n",
        "\n",
        "        temp_df = matching_df[[\"Standard_Bangla_Language\", region_col]].copy()\n",
        "        temp_df.columns = [\"Standard_Bangla\", \"Dialect_Text\"]\n",
        "        temp_df[\"Region\"] = region_name\n",
        "        temp_df.dropna(inplace=True)\n",
        "\n",
        "        print(f\"Original rows for {region_name}: {len(temp_df)}\")\n",
        "\n",
        "        if region_name in [\"Barishal\", \"Mymensingh\"]:\n",
        "            augmented_df = pd.DataFrame([\n",
        "                {\n",
        "                    \"Standard_Bangla\": row[\"Standard_Bangla\"],\n",
        "                    \"Dialect_Text\": augment_text(row[\"Dialect_Text\"]),\n",
        "                    \"Region\": region_name\n",
        "                }\n",
        "                for _, row in temp_df.iterrows()\n",
        "            ])\n",
        "            temp_df = pd.concat([temp_df, augmented_df], ignore_index=True)\n",
        "            print(f\"Added {len(augmented_df)} augmented samples for {region_name}\")\n",
        "\n",
        "        print(f\"Final rows for {region_name} after augmentation: {len(temp_df)}\")\n",
        "        data_list.append(temp_df)\n",
        "    else:\n",
        "        print(f\"Warning: No matching dataframe found for region {region_name}\")\n",
        "\n",
        "# Combine all DataFrames if available\n",
        "if data_list:\n",
        "    df_long = pd.concat(data_list, ignore_index=True)\n",
        "    df_long = add_dialect_marker_counts(df_long)\n",
        "    print(\"Dataframes concatenated successfully.\")\n",
        "else:\n",
        "    print(\"Error: data_list is empty. Cannot concatenate.\")\n"
      ],
      "metadata": {
        "colab": {
          "base_uri": "https://localhost:8080/"
        },
        "id": "YKd1P3CFkXlO",
        "outputId": "6d2adcfc-2150-48ee-abdf-5341bd055bd5"
      },
      "execution_count": null,
      "outputs": [
        {
          "output_type": "stream",
          "name": "stdout",
          "text": [
            "Processing region: Barishal\n",
            "Found matching dataframe for Barishal\n",
            "Original rows for Barishal: 4082\n",
            "Added 4082 augmented samples for Barishal\n",
            "Final rows for Barishal after augmentation: 8164\n",
            "Processing region: Chittagong\n",
            "Found matching dataframe for Chittagong\n",
            "Original rows for Chittagong: 12212\n",
            "Final rows for Chittagong after augmentation: 12212\n",
            "Processing region: Noakhali\n",
            "Found matching dataframe for Noakhali\n",
            "Original rows for Noakhali: 5488\n",
            "Final rows for Noakhali after augmentation: 5488\n",
            "Processing region: Sylhet\n",
            "Found matching dataframe for Sylhet\n",
            "Original rows for Sylhet: 6204\n",
            "Final rows for Sylhet after augmentation: 6204\n",
            "Processing region: Mymensingh\n",
            "Found matching dataframe for Mymensingh\n",
            "Original rows for Mymensingh: 2500\n",
            "Added 2500 augmented samples for Mymensingh\n",
            "Final rows for Mymensingh after augmentation: 5000\n",
            "Dataframes concatenated successfully.\n"
          ]
        }
      ]
    },
    {
      "cell_type": "code",
      "source": [
        "# Encode region labels\n",
        "region_labels = {region: idx for idx, region in enumerate(df_long[\"Region\"].unique())}\n",
        "df_long[\"Region_Label\"] = df_long[\"Region\"].map(region_labels)\n",
        "\n",
        "print(\"Dataset distribution:\")\n",
        "print(df_long[\"Region\"].value_counts())\n",
        "\n",
        "print(\"Encoded Region Labels:\")\n",
        "print(region_labels)"
      ],
      "metadata": {
        "colab": {
          "base_uri": "https://localhost:8080/"
        },
        "id": "z1zg3wYlk_ic",
        "outputId": "fb600ed0-79cc-489e-c43b-b350745c24e0"
      },
      "execution_count": null,
      "outputs": [
        {
          "output_type": "stream",
          "name": "stdout",
          "text": [
            "Dataset distribution:\n",
            "Region\n",
            "Chittagong    12212\n",
            "Barishal       8164\n",
            "Sylhet         6204\n",
            "Noakhali       5488\n",
            "Mymensingh     5000\n",
            "Name: count, dtype: int64\n",
            "Encoded Region Labels:\n",
            "{'Barishal': 0, 'Chittagong': 1, 'Noakhali': 2, 'Sylhet': 3, 'Mymensingh': 4}\n"
          ]
        }
      ]
    },
    {
      "cell_type": "code",
      "source": [
        " #Calculate class weights inversely proportional to class frequencies for handling imbalance\n",
        "class_counts = df_long[\"Region_Label\"].value_counts()\n",
        "total_samples = len(df_long)\n",
        "class_weights = {label: total_samples / count for label, count in class_counts.items()}\n",
        "print(\"\\nClass weights:\")\n",
        "print(class_weights)"
      ],
      "metadata": {
        "colab": {
          "base_uri": "https://localhost:8080/"
        },
        "id": "Zyh2p9rnlBi_",
        "outputId": "16ff3e4b-9094-4182-a837-6e95bdc0e3f4"
      },
      "execution_count": null,
      "outputs": [
        {
          "output_type": "stream",
          "name": "stdout",
          "text": [
            "\n",
            "Class weights:\n",
            "{1: 3.035375040943334, 0: 4.540421362077413, 3: 5.974854932301741, 2: 6.754373177842566, 4: 7.4136}\n"
          ]
        }
      ]
    },
    {
      "cell_type": "code",
      "source": [
        "#Implement K-fold cross validation\n",
        "# Number of folds\n",
        "k_folds = 5\n",
        "kf = KFold(n_splits=k_folds, shuffle=True, random_state=42)"
      ],
      "metadata": {
        "id": "w9wtlhnQlKyn"
      },
      "execution_count": null,
      "outputs": []
    },
    {
      "cell_type": "code",
      "source": [
        "# Load a pre-trained Bangla BERT tokenizer\n",
        "tokenizer = BertTokenizer.from_pretrained('sagorsarker/bangla-bert-base')\n"
      ],
      "metadata": {
        "colab": {
          "base_uri": "https://localhost:8080/",
          "height": 210,
          "referenced_widgets": [
            "bbaa698a528e4e41b574404df5a55615",
            "4d32da93110a436e9426c4c3a938fecd",
            "f4fdeb0488294145820f53dbea1fa37a",
            "31c3fb4451ac42c7bd9f7ff37564aca2",
            "99fc59752973491b97bef6bd53cd8bbe",
            "f0615e95a3cf481b9b11eadc5d9e7886",
            "2e8668d369c4491cae85b173ccf30328",
            "91ca5759c35e4888bf8d78895b5a9a92",
            "bfb75294b2874b7ba740c91260def2fd",
            "5a5578710bbf4f9bb1bac298e84a078a",
            "090dd9213f754eaa9a3f81dc9eaf1945",
            "620468df29944f9c8613448f22c5217f",
            "efb3615b9fb14252b0f3c6aca36de780",
            "290890c56b2a446c9fb44848d2697fd3",
            "e3cc64e3ead24e579f34450c55787526",
            "7ab15277325547c7aea21203cdeed7b2",
            "123140e1bb5b4a86b06420012f45bfab",
            "0369a19841f8490897909cfb987e500f",
            "f5fcb47a527548e0bcab23020e723bc9",
            "58d590b8f4ab4581a5274d0f3c7c0db3",
            "67f2f14e359e41df82befe97684eb844",
            "967e389dd6d744189a3f5729355de5de"
          ]
        },
        "id": "E1slUGkglW51",
        "outputId": "09f8d95c-77c2-4d78-b681-043f479c9da8"
      },
      "execution_count": null,
      "outputs": [
        {
          "output_type": "stream",
          "name": "stderr",
          "text": [
            "/usr/local/lib/python3.11/dist-packages/huggingface_hub/utils/_auth.py:94: UserWarning: \n",
            "The secret `HF_TOKEN` does not exist in your Colab secrets.\n",
            "To authenticate with the Hugging Face Hub, create a token in your settings tab (https://huggingface.co/settings/tokens), set it as secret in your Google Colab and restart your session.\n",
            "You will be able to reuse this secret in all of your notebooks.\n",
            "Please note that authentication is recommended but still optional to access public models or datasets.\n",
            "  warnings.warn(\n"
          ]
        },
        {
          "output_type": "display_data",
          "data": {
            "text/plain": [
              "vocab.txt:   0%|          | 0.00/2.24M [00:00<?, ?B/s]"
            ],
            "application/vnd.jupyter.widget-view+json": {
              "version_major": 2,
              "version_minor": 0,
              "model_id": "bbaa698a528e4e41b574404df5a55615"
            }
          },
          "metadata": {}
        },
        {
          "output_type": "display_data",
          "data": {
            "text/plain": [
              "config.json:   0%|          | 0.00/491 [00:00<?, ?B/s]"
            ],
            "application/vnd.jupyter.widget-view+json": {
              "version_major": 2,
              "version_minor": 0,
              "model_id": "620468df29944f9c8613448f22c5217f"
            }
          },
          "metadata": {}
        }
      ]
    },
    {
      "cell_type": "code",
      "source": [
        "# Improved tokenization with longer sequence length\n",
        "def tokenize_data(texts):\n",
        "    return tokenizer(\n",
        "        texts.tolist(),\n",
        "        padding='max_length',\n",
        "        truncation=True,\n",
        "        max_length=256,\n",
        "        return_tensors=\"pt\"\n",
        "    )"
      ],
      "metadata": {
        "id": "iKBen-xNlb96"
      },
      "execution_count": null,
      "outputs": []
    },
    {
      "cell_type": "code",
      "source": [
        "# Create Dataset class\n",
        "class DialectDataset(torch.utils.data.Dataset):\n",
        "    def __init__(self, encodings, labels):\n",
        "        self.encodings = encodings\n",
        "        self.labels = labels\n",
        "\n",
        "    def __getitem__(self, idx):\n",
        "        item = {key: val[idx] for key, val in self.encodings.items()}\n",
        "        item['labels'] = torch.tensor(self.labels[idx])\n",
        "        return item\n",
        "\n",
        "    def __len__(self):\n",
        "        return len(self.labels)\n"
      ],
      "metadata": {
        "id": "lcunkKO0lgbo"
      },
      "execution_count": null,
      "outputs": []
    },
    {
      "cell_type": "code",
      "source": [
        "# Define compute_metrics function for evaluation\n",
        "def compute_metrics(pred):\n",
        "    labels = pred.label_ids\n",
        "    preds = pred.predictions.argmax(-1)\n",
        "\n",
        "    precision, recall, f1, _ = precision_recall_fscore_support(\n",
        "        labels, preds, average='weighted'\n",
        "    )\n",
        "    acc = accuracy_score(labels, preds)\n",
        "\n",
        "    return {\n",
        "        'accuracy': acc,\n",
        "        'f1': f1,\n",
        "        'precision': precision,\n",
        "        'recall': recall\n",
        "    }\n"
      ],
      "metadata": {
        "id": "d9bwBTzQljb6"
      },
      "execution_count": null,
      "outputs": []
    },
    {
      "cell_type": "code",
      "source": [
        "# Custom trainer with class weights\n",
        "class CustomTrainer(Trainer):\n",
        "    def __init__(self, *args, class_weights=None, **kwargs):\n",
        "        super().__init__(*args, **kwargs)\n",
        "        self.class_weights = class_weights\n",
        "\n",
        "    def compute_loss(self, model, inputs, return_outputs=False, num_items_in_batch=None):\n",
        "\n",
        "        outputs = model(**inputs)\n",
        "        logits = outputs.get(\"logits\")\n",
        "        labels = inputs.get(\"labels\")\n",
        "\n",
        "        # Apply weighted loss if class weights are provided\n",
        "        if self.class_weights is not None:\n",
        "            loss_fct = torch.nn.CrossEntropyLoss(weight=self.class_weights.to(self.args.device))\n",
        "            loss = loss_fct(logits.view(-1, self.model.config.num_labels), labels.view(-1))\n",
        "        else:\n",
        "            loss = outputs.get(\"loss\")\n",
        "\n",
        "        return (loss, outputs) if return_outputs else loss"
      ],
      "metadata": {
        "id": "9nzyDKGTln7P"
      },
      "execution_count": null,
      "outputs": []
    },
    {
      "cell_type": "code",
      "source": [
        "def predict_region(text, model, tokenizer, region_labels):\n",
        "\n",
        "    idx_to_region = {v: k for k, v in region_labels.items()}\n",
        "\n",
        "    inputs = tokenizer(\n",
        "        text,\n",
        "        padding='max_length',\n",
        "        truncation=True,\n",
        "        max_length=256,\n",
        "        return_tensors=\"pt\"\n",
        "    )\n",
        "\n",
        "    device = model.device\n",
        "    inputs = {k: v.to(device) for k, v in inputs.items()}\n",
        "\n",
        "    model.eval()\n",
        "    with torch.no_grad():\n",
        "        outputs = model(**inputs)\n",
        "\n",
        "    top_class = torch.argmax(outputs.logits, dim=-1).item()\n",
        "\n",
        "    return idx_to_region[top_class]\n"
      ],
      "metadata": {
        "id": "Tq9_7j6NlpCS"
      },
      "execution_count": null,
      "outputs": []
    },
    {
      "cell_type": "code",
      "source": [
        "# IMPROVEMENT 7: Store results from each fold for ensemble prediction\n",
        "fold_results = []\n",
        "fold_models = []\n",
        "\n",
        "# Convert the class_weights dictionary to a PyTorch tensor\n",
        "class_weights_tensor = torch.tensor([class_weights[label] for label in sorted(class_weights.keys())], dtype=torch.float32)\n"
      ],
      "metadata": {
        "id": "YJUKXsEvl1Mw"
      },
      "execution_count": null,
      "outputs": []
    },
    {
      "cell_type": "code",
      "source": [
        "# Implement K-fold cross validation\n",
        "for fold, (train_idx, val_idx) in enumerate(kf.split(df_long)):\n",
        "    print(f\"\\n{'='*40}\\nFold {fold+1}/{k_folds}\\n{'='*40}\")\n",
        "\n",
        "    # Split data for this fold\n",
        "    train_df = df_long.iloc[train_idx]\n",
        "    val_df = df_long.iloc[val_idx]\n",
        "\n",
        "    # Extract texts and labels\n",
        "    train_texts = train_df[\"Dialect_Text\"].reset_index(drop=True)\n",
        "    train_labels = train_df[\"Region_Label\"].reset_index(drop=True)\n",
        "    val_texts = val_df[\"Dialect_Text\"].reset_index(drop=True)\n",
        "    val_labels = val_df[\"Region_Label\"].reset_index(drop=True)\n",
        "\n",
        "    # Tokenize datasets\n",
        "    train_encodings = tokenize_data(train_texts)\n",
        "    val_encodings = tokenize_data(val_texts)\n",
        "\n",
        "    # Create dataset objects\n",
        "    train_dataset = DialectDataset(train_encodings, train_labels)\n",
        "    val_dataset = DialectDataset(val_encodings, val_labels)\n",
        "\n",
        "    # Load a pre-trained BERT model for sequence classification\n",
        "    model = BertForSequenceClassification.from_pretrained(\n",
        "        'sagorsarker/bangla-bert-base', num_labels=len(region_labels)\n",
        "    )\n",
        "\n",
        "    # IMPROVEMENT 8: Optimized training arguments\n",
        "    training_args = TrainingArguments(\n",
        "        output_dir=f'./improved_results/fold_{fold+1}',\n",
        "        num_train_epochs=5,  # Increased from 3 to allow better learning\n",
        "        per_device_train_batch_size=8,  # Reduced batch size to allow more gradient updates\n",
        "        per_device_eval_batch_size=16,\n",
        "        warmup_ratio=0.1,  # Use ratio instead of steps for better scaling\n",
        "        weight_decay=0.01,\n",
        "        logging_dir=f'./logs/fold_{fold+1}',\n",
        "        logging_steps=100,\n",
        "        save_strategy=\"epoch\",  # Save model after each epoch\n",
        "        eval_strategy=\"epoch\",\n",
        "        load_best_model_at_end=True,  # Load the best model when training ends\n",
        "        metric_for_best_model=\"f1\",  # Use F1 score to determine the best model\n",
        "        greater_is_better=True,  # Higher F1 score is better\n",
        "        learning_rate=2e-5,  # Slightly lower learning rate\n",
        "        lr_scheduler_type=\"linear\",  # Linear learning rate scheduler\n",
        "        report_to=\"none\"  # Disable wandb/tensorboard reporting\n",
        "    )\n",
        "\n",
        "    # IMPROVEMENT 9: Early stopping\n",
        "    early_stopping_callback = EarlyStoppingCallback(early_stopping_patience=2)\n",
        "\n",
        "    # Initialize the custom trainer with class weights\n",
        "    trainer = CustomTrainer(\n",
        "        model=model,\n",
        "        args=training_args,\n",
        "        train_dataset=train_dataset,\n",
        "        eval_dataset=val_dataset,\n",
        "        compute_metrics=compute_metrics,\n",
        "        class_weights=class_weights_tensor,  # Use the class weights tensor\n",
        "        callbacks=[early_stopping_callback]\n",
        "    )\n",
        "\n",
        "    # Train the model\n",
        "    print(f\"Training fold {fold+1}...\")\n",
        "    trainer.train()\n",
        "\n",
        "    # Evaluate the model\n",
        "    eval_results = trainer.evaluate()\n",
        "    print(f\"Fold {fold+1} evaluation results: {eval_results}\")\n",
        "\n",
        "    # Save results and model\n",
        "    fold_results.append(eval_results)\n",
        "    fold_models.append(model)\n",
        "\n",
        "    # Generate confusion matrix for this fold\n",
        "    test_outputs = trainer.predict(val_dataset)\n",
        "    preds = np.argmax(test_outputs.predictions, axis=-1)\n",
        "\n",
        "    # Create confusion matrix\n",
        "    cm = confusion_matrix(val_labels, preds)\n",
        "\n",
        "    # Convert indices to region names for better visualization\n",
        "    idx_to_region = {v: k for k, v in region_labels.items()}\n",
        "    region_names = [idx_to_region[i] for i in range(len(region_labels))]\n",
        "\n",
        "    plt.figure(figsize=(10, 8))\n",
        "    sns.heatmap(cm, annot=True, fmt='d', xticklabels=region_names, yticklabels=region_names)\n",
        "    plt.xlabel('Predicted')\n",
        "    plt.ylabel('True')\n",
        "    plt.title(f'Confusion Matrix - Fold {fold+1}')\n",
        "    plt.tight_layout()\n",
        "    plt.savefig(f'confusion_matrix_fold_{fold+1}.png')\n",
        "    plt.close()"
      ],
      "metadata": {
        "colab": {
          "base_uri": "https://localhost:8080/",
          "height": 1000
        },
        "id": "jb6uB0zHmCUp",
        "outputId": "c9dc1da9-78c4-460d-b433-bd204515c2d3"
      },
      "execution_count": null,
      "outputs": [
        {
          "output_type": "stream",
          "name": "stdout",
          "text": [
            "\n",
            "========================================\n",
            "Fold 1/5\n",
            "========================================\n"
          ]
        },
        {
          "output_type": "stream",
          "name": "stderr",
          "text": [
            "Some weights of BertForSequenceClassification were not initialized from the model checkpoint at sagorsarker/bangla-bert-base and are newly initialized: ['classifier.bias', 'classifier.weight']\n",
            "You should probably TRAIN this model on a down-stream task to be able to use it for predictions and inference.\n"
          ]
        },
        {
          "output_type": "stream",
          "name": "stdout",
          "text": [
            "Training fold 1...\n"
          ]
        },
        {
          "output_type": "display_data",
          "data": {
            "text/plain": [
              "<IPython.core.display.HTML object>"
            ],
            "text/html": [
              "\n",
              "    <div>\n",
              "      \n",
              "      <progress value='18535' max='18535' style='width:300px; height:20px; vertical-align: middle;'></progress>\n",
              "      [18535/18535 31:06, Epoch 5/5]\n",
              "    </div>\n",
              "    <table border=\"1\" class=\"dataframe\">\n",
              "  <thead>\n",
              " <tr style=\"text-align: left;\">\n",
              "      <th>Epoch</th>\n",
              "      <th>Training Loss</th>\n",
              "      <th>Validation Loss</th>\n",
              "      <th>Accuracy</th>\n",
              "      <th>F1</th>\n",
              "      <th>Precision</th>\n",
              "      <th>Recall</th>\n",
              "    </tr>\n",
              "  </thead>\n",
              "  <tbody>\n",
              "    <tr>\n",
              "      <td>1</td>\n",
              "      <td>0.392600</td>\n",
              "      <td>0.406814</td>\n",
              "      <td>0.871729</td>\n",
              "      <td>0.871525</td>\n",
              "      <td>0.874949</td>\n",
              "      <td>0.871729</td>\n",
              "    </tr>\n",
              "    <tr>\n",
              "      <td>2</td>\n",
              "      <td>0.258400</td>\n",
              "      <td>0.384007</td>\n",
              "      <td>0.900189</td>\n",
              "      <td>0.900864</td>\n",
              "      <td>0.902264</td>\n",
              "      <td>0.900189</td>\n",
              "    </tr>\n",
              "    <tr>\n",
              "      <td>3</td>\n",
              "      <td>0.214400</td>\n",
              "      <td>0.418815</td>\n",
              "      <td>0.909765</td>\n",
              "      <td>0.909853</td>\n",
              "      <td>0.910587</td>\n",
              "      <td>0.909765</td>\n",
              "    </tr>\n",
              "    <tr>\n",
              "      <td>4</td>\n",
              "      <td>0.192100</td>\n",
              "      <td>0.434476</td>\n",
              "      <td>0.919477</td>\n",
              "      <td>0.919218</td>\n",
              "      <td>0.919059</td>\n",
              "      <td>0.919477</td>\n",
              "    </tr>\n",
              "    <tr>\n",
              "      <td>5</td>\n",
              "      <td>0.072600</td>\n",
              "      <td>0.484586</td>\n",
              "      <td>0.922714</td>\n",
              "      <td>0.922477</td>\n",
              "      <td>0.922454</td>\n",
              "      <td>0.922714</td>\n",
              "    </tr>\n",
              "  </tbody>\n",
              "</table><p>"
            ]
          },
          "metadata": {}
        },
        {
          "output_type": "display_data",
          "data": {
            "text/plain": [
              "<IPython.core.display.HTML object>"
            ],
            "text/html": []
          },
          "metadata": {}
        },
        {
          "output_type": "stream",
          "name": "stdout",
          "text": [
            "Fold 1 evaluation results: {'eval_loss': 0.48458632826805115, 'eval_accuracy': 0.9227137847315889, 'eval_f1': 0.9224770622992251, 'eval_precision': 0.9224540065345842, 'eval_recall': 0.9227137847315889, 'eval_runtime': 22.9519, 'eval_samples_per_second': 323.023, 'eval_steps_per_second': 20.216, 'epoch': 5.0}\n",
            "\n",
            "========================================\n",
            "Fold 2/5\n",
            "========================================\n"
          ]
        },
        {
          "output_type": "stream",
          "name": "stderr",
          "text": [
            "Some weights of BertForSequenceClassification were not initialized from the model checkpoint at sagorsarker/bangla-bert-base and are newly initialized: ['classifier.bias', 'classifier.weight']\n",
            "You should probably TRAIN this model on a down-stream task to be able to use it for predictions and inference.\n"
          ]
        },
        {
          "output_type": "stream",
          "name": "stdout",
          "text": [
            "Training fold 2...\n"
          ]
        },
        {
          "output_type": "display_data",
          "data": {
            "text/plain": [
              "<IPython.core.display.HTML object>"
            ],
            "text/html": [
              "\n",
              "    <div>\n",
              "      \n",
              "      <progress value='18535' max='18535' style='width:300px; height:20px; vertical-align: middle;'></progress>\n",
              "      [18535/18535 31:05, Epoch 5/5]\n",
              "    </div>\n",
              "    <table border=\"1\" class=\"dataframe\">\n",
              "  <thead>\n",
              " <tr style=\"text-align: left;\">\n",
              "      <th>Epoch</th>\n",
              "      <th>Training Loss</th>\n",
              "      <th>Validation Loss</th>\n",
              "      <th>Accuracy</th>\n",
              "      <th>F1</th>\n",
              "      <th>Precision</th>\n",
              "      <th>Recall</th>\n",
              "    </tr>\n",
              "  </thead>\n",
              "  <tbody>\n",
              "    <tr>\n",
              "      <td>1</td>\n",
              "      <td>0.499700</td>\n",
              "      <td>0.399321</td>\n",
              "      <td>0.869436</td>\n",
              "      <td>0.868433</td>\n",
              "      <td>0.872571</td>\n",
              "      <td>0.869436</td>\n",
              "    </tr>\n",
              "    <tr>\n",
              "      <td>2</td>\n",
              "      <td>0.368100</td>\n",
              "      <td>0.378181</td>\n",
              "      <td>0.906663</td>\n",
              "      <td>0.906613</td>\n",
              "      <td>0.907089</td>\n",
              "      <td>0.906663</td>\n",
              "    </tr>\n",
              "    <tr>\n",
              "      <td>3</td>\n",
              "      <td>0.309800</td>\n",
              "      <td>0.406130</td>\n",
              "      <td>0.920016</td>\n",
              "      <td>0.920155</td>\n",
              "      <td>0.920679</td>\n",
              "      <td>0.920016</td>\n",
              "    </tr>\n",
              "    <tr>\n",
              "      <td>4</td>\n",
              "      <td>0.141200</td>\n",
              "      <td>0.427696</td>\n",
              "      <td>0.924332</td>\n",
              "      <td>0.924506</td>\n",
              "      <td>0.925126</td>\n",
              "      <td>0.924332</td>\n",
              "    </tr>\n",
              "    <tr>\n",
              "      <td>5</td>\n",
              "      <td>0.072700</td>\n",
              "      <td>0.447102</td>\n",
              "      <td>0.927974</td>\n",
              "      <td>0.928027</td>\n",
              "      <td>0.928298</td>\n",
              "      <td>0.927974</td>\n",
              "    </tr>\n",
              "  </tbody>\n",
              "</table><p>"
            ]
          },
          "metadata": {}
        },
        {
          "output_type": "display_data",
          "data": {
            "text/plain": [
              "<IPython.core.display.HTML object>"
            ],
            "text/html": []
          },
          "metadata": {}
        },
        {
          "output_type": "stream",
          "name": "stdout",
          "text": [
            "Fold 2 evaluation results: {'eval_loss': 0.4471023678779602, 'eval_accuracy': 0.927974103048287, 'eval_f1': 0.9280272992148458, 'eval_precision': 0.9282980634187402, 'eval_recall': 0.927974103048287, 'eval_runtime': 23.0075, 'eval_samples_per_second': 322.243, 'eval_steps_per_second': 20.167, 'epoch': 5.0}\n",
            "\n",
            "========================================\n",
            "Fold 3/5\n",
            "========================================\n"
          ]
        },
        {
          "output_type": "stream",
          "name": "stderr",
          "text": [
            "Some weights of BertForSequenceClassification were not initialized from the model checkpoint at sagorsarker/bangla-bert-base and are newly initialized: ['classifier.bias', 'classifier.weight']\n",
            "You should probably TRAIN this model on a down-stream task to be able to use it for predictions and inference.\n"
          ]
        },
        {
          "output_type": "stream",
          "name": "stdout",
          "text": [
            "Training fold 3...\n"
          ]
        },
        {
          "output_type": "display_data",
          "data": {
            "text/plain": [
              "<IPython.core.display.HTML object>"
            ],
            "text/html": [
              "\n",
              "    <div>\n",
              "      \n",
              "      <progress value='18535' max='18535' style='width:300px; height:20px; vertical-align: middle;'></progress>\n",
              "      [18535/18535 31:09, Epoch 5/5]\n",
              "    </div>\n",
              "    <table border=\"1\" class=\"dataframe\">\n",
              "  <thead>\n",
              " <tr style=\"text-align: left;\">\n",
              "      <th>Epoch</th>\n",
              "      <th>Training Loss</th>\n",
              "      <th>Validation Loss</th>\n",
              "      <th>Accuracy</th>\n",
              "      <th>F1</th>\n",
              "      <th>Precision</th>\n",
              "      <th>Recall</th>\n",
              "    </tr>\n",
              "  </thead>\n",
              "  <tbody>\n",
              "    <tr>\n",
              "      <td>1</td>\n",
              "      <td>0.426000</td>\n",
              "      <td>0.394415</td>\n",
              "      <td>0.871459</td>\n",
              "      <td>0.872214</td>\n",
              "      <td>0.874538</td>\n",
              "      <td>0.871459</td>\n",
              "    </tr>\n",
              "    <tr>\n",
              "      <td>2</td>\n",
              "      <td>0.358100</td>\n",
              "      <td>0.383162</td>\n",
              "      <td>0.902617</td>\n",
              "      <td>0.902645</td>\n",
              "      <td>0.902998</td>\n",
              "      <td>0.902617</td>\n",
              "    </tr>\n",
              "    <tr>\n",
              "      <td>3</td>\n",
              "      <td>0.191400</td>\n",
              "      <td>0.434418</td>\n",
              "      <td>0.913947</td>\n",
              "      <td>0.913960</td>\n",
              "      <td>0.914034</td>\n",
              "      <td>0.913947</td>\n",
              "    </tr>\n",
              "    <tr>\n",
              "      <td>4</td>\n",
              "      <td>0.139400</td>\n",
              "      <td>0.452828</td>\n",
              "      <td>0.915835</td>\n",
              "      <td>0.915198</td>\n",
              "      <td>0.916097</td>\n",
              "      <td>0.915835</td>\n",
              "    </tr>\n",
              "    <tr>\n",
              "      <td>5</td>\n",
              "      <td>0.070000</td>\n",
              "      <td>0.481219</td>\n",
              "      <td>0.920825</td>\n",
              "      <td>0.920565</td>\n",
              "      <td>0.920502</td>\n",
              "      <td>0.920825</td>\n",
              "    </tr>\n",
              "  </tbody>\n",
              "</table><p>"
            ]
          },
          "metadata": {}
        },
        {
          "output_type": "display_data",
          "data": {
            "text/plain": [
              "<IPython.core.display.HTML object>"
            ],
            "text/html": []
          },
          "metadata": {}
        },
        {
          "output_type": "stream",
          "name": "stdout",
          "text": [
            "Fold 3 evaluation results: {'eval_loss': 0.4812188148498535, 'eval_accuracy': 0.9208254653358511, 'eval_f1': 0.9205654085456099, 'eval_precision': 0.9205021352338004, 'eval_recall': 0.9208254653358511, 'eval_runtime': 22.9718, 'eval_samples_per_second': 322.744, 'eval_steps_per_second': 20.199, 'epoch': 5.0}\n",
            "\n",
            "========================================\n",
            "Fold 4/5\n",
            "========================================\n"
          ]
        },
        {
          "output_type": "stream",
          "name": "stderr",
          "text": [
            "Some weights of BertForSequenceClassification were not initialized from the model checkpoint at sagorsarker/bangla-bert-base and are newly initialized: ['classifier.bias', 'classifier.weight']\n",
            "You should probably TRAIN this model on a down-stream task to be able to use it for predictions and inference.\n"
          ]
        },
        {
          "output_type": "stream",
          "name": "stdout",
          "text": [
            "Training fold 4...\n"
          ]
        },
        {
          "output_type": "display_data",
          "data": {
            "text/plain": [
              "<IPython.core.display.HTML object>"
            ],
            "text/html": [
              "\n",
              "    <div>\n",
              "      \n",
              "      <progress value='18535' max='18535' style='width:300px; height:20px; vertical-align: middle;'></progress>\n",
              "      [18535/18535 30:58, Epoch 5/5]\n",
              "    </div>\n",
              "    <table border=\"1\" class=\"dataframe\">\n",
              "  <thead>\n",
              " <tr style=\"text-align: left;\">\n",
              "      <th>Epoch</th>\n",
              "      <th>Training Loss</th>\n",
              "      <th>Validation Loss</th>\n",
              "      <th>Accuracy</th>\n",
              "      <th>F1</th>\n",
              "      <th>Precision</th>\n",
              "      <th>Recall</th>\n",
              "    </tr>\n",
              "  </thead>\n",
              "  <tbody>\n",
              "    <tr>\n",
              "      <td>1</td>\n",
              "      <td>0.442800</td>\n",
              "      <td>0.485521</td>\n",
              "      <td>0.859976</td>\n",
              "      <td>0.857322</td>\n",
              "      <td>0.861330</td>\n",
              "      <td>0.859976</td>\n",
              "    </tr>\n",
              "    <tr>\n",
              "      <td>2</td>\n",
              "      <td>0.331000</td>\n",
              "      <td>0.405513</td>\n",
              "      <td>0.899096</td>\n",
              "      <td>0.899344</td>\n",
              "      <td>0.902273</td>\n",
              "      <td>0.899096</td>\n",
              "    </tr>\n",
              "    <tr>\n",
              "      <td>3</td>\n",
              "      <td>0.237100</td>\n",
              "      <td>0.409692</td>\n",
              "      <td>0.913935</td>\n",
              "      <td>0.914141</td>\n",
              "      <td>0.914842</td>\n",
              "      <td>0.913935</td>\n",
              "    </tr>\n",
              "    <tr>\n",
              "      <td>4</td>\n",
              "      <td>0.193400</td>\n",
              "      <td>0.444979</td>\n",
              "      <td>0.915958</td>\n",
              "      <td>0.916065</td>\n",
              "      <td>0.916300</td>\n",
              "      <td>0.915958</td>\n",
              "    </tr>\n",
              "    <tr>\n",
              "      <td>5</td>\n",
              "      <td>0.086600</td>\n",
              "      <td>0.488028</td>\n",
              "      <td>0.919601</td>\n",
              "      <td>0.919419</td>\n",
              "      <td>0.919633</td>\n",
              "      <td>0.919601</td>\n",
              "    </tr>\n",
              "  </tbody>\n",
              "</table><p>"
            ]
          },
          "metadata": {}
        },
        {
          "output_type": "display_data",
          "data": {
            "text/plain": [
              "<IPython.core.display.HTML object>"
            ],
            "text/html": []
          },
          "metadata": {}
        },
        {
          "output_type": "stream",
          "name": "stdout",
          "text": [
            "Fold 4 evaluation results: {'eval_loss': 0.48802846670150757, 'eval_accuracy': 0.9196007014703899, 'eval_f1': 0.9194194053064693, 'eval_precision': 0.9196326194398212, 'eval_recall': 0.9196007014703899, 'eval_runtime': 23.0389, 'eval_samples_per_second': 321.759, 'eval_steps_per_second': 20.14, 'epoch': 5.0}\n",
            "\n",
            "========================================\n",
            "Fold 5/5\n",
            "========================================\n"
          ]
        },
        {
          "output_type": "stream",
          "name": "stderr",
          "text": [
            "Some weights of BertForSequenceClassification were not initialized from the model checkpoint at sagorsarker/bangla-bert-base and are newly initialized: ['classifier.bias', 'classifier.weight']\n",
            "You should probably TRAIN this model on a down-stream task to be able to use it for predictions and inference.\n"
          ]
        },
        {
          "output_type": "stream",
          "name": "stdout",
          "text": [
            "Training fold 5...\n"
          ]
        },
        {
          "output_type": "display_data",
          "data": {
            "text/plain": [
              "<IPython.core.display.HTML object>"
            ],
            "text/html": [
              "\n",
              "    <div>\n",
              "      \n",
              "      <progress value='18535' max='18535' style='width:300px; height:20px; vertical-align: middle;'></progress>\n",
              "      [18535/18535 31:07, Epoch 5/5]\n",
              "    </div>\n",
              "    <table border=\"1\" class=\"dataframe\">\n",
              "  <thead>\n",
              " <tr style=\"text-align: left;\">\n",
              "      <th>Epoch</th>\n",
              "      <th>Training Loss</th>\n",
              "      <th>Validation Loss</th>\n",
              "      <th>Accuracy</th>\n",
              "      <th>F1</th>\n",
              "      <th>Precision</th>\n",
              "      <th>Recall</th>\n",
              "    </tr>\n",
              "  </thead>\n",
              "  <tbody>\n",
              "    <tr>\n",
              "      <td>1</td>\n",
              "      <td>0.493500</td>\n",
              "      <td>0.384785</td>\n",
              "      <td>0.869823</td>\n",
              "      <td>0.869936</td>\n",
              "      <td>0.874726</td>\n",
              "      <td>0.869823</td>\n",
              "    </tr>\n",
              "    <tr>\n",
              "      <td>2</td>\n",
              "      <td>0.357100</td>\n",
              "      <td>0.397654</td>\n",
              "      <td>0.896938</td>\n",
              "      <td>0.897380</td>\n",
              "      <td>0.901902</td>\n",
              "      <td>0.896938</td>\n",
              "    </tr>\n",
              "    <tr>\n",
              "      <td>3</td>\n",
              "      <td>0.180900</td>\n",
              "      <td>0.429646</td>\n",
              "      <td>0.912181</td>\n",
              "      <td>0.911796</td>\n",
              "      <td>0.911865</td>\n",
              "      <td>0.912181</td>\n",
              "    </tr>\n",
              "    <tr>\n",
              "      <td>4</td>\n",
              "      <td>0.204200</td>\n",
              "      <td>0.437094</td>\n",
              "      <td>0.921085</td>\n",
              "      <td>0.921099</td>\n",
              "      <td>0.921280</td>\n",
              "      <td>0.921085</td>\n",
              "    </tr>\n",
              "    <tr>\n",
              "      <td>5</td>\n",
              "      <td>0.047200</td>\n",
              "      <td>0.467491</td>\n",
              "      <td>0.924862</td>\n",
              "      <td>0.924891</td>\n",
              "      <td>0.925100</td>\n",
              "      <td>0.924862</td>\n",
              "    </tr>\n",
              "  </tbody>\n",
              "</table><p>"
            ]
          },
          "metadata": {}
        },
        {
          "output_type": "display_data",
          "data": {
            "text/plain": [
              "<IPython.core.display.HTML object>"
            ],
            "text/html": []
          },
          "metadata": {}
        },
        {
          "output_type": "stream",
          "name": "stdout",
          "text": [
            "Fold 5 evaluation results: {'eval_loss': 0.4674912393093109, 'eval_accuracy': 0.9248617293943073, 'eval_f1': 0.924890761254335, 'eval_precision': 0.9250995064954276, 'eval_recall': 0.9248617293943073, 'eval_runtime': 22.9194, 'eval_samples_per_second': 323.438, 'eval_steps_per_second': 20.245, 'epoch': 5.0}\n"
          ]
        }
      ]
    },
    {
      "cell_type": "code",
      "source": [
        "\n",
        "# Find the best fold based on F1 score\n",
        "best_fold_idx = max(range(len(fold_results)), key=lambda i: fold_results[i].get('eval_f1', 0))\n",
        "best_model = fold_models[best_fold_idx]\n",
        "best_eval_results = fold_results[best_fold_idx]\n",
        "\n",
        "print(f\"\\nBest model is from fold {best_fold_idx+1} with F1 score: {best_eval_results.get('eval_f1', 0):.4f}\")\n"
      ],
      "metadata": {
        "colab": {
          "base_uri": "https://localhost:8080/"
        },
        "id": "HcGNXgT-OJB_",
        "outputId": "9cf8a439-ed55-4a80-b1ea-cd2bb66cb77c"
      },
      "execution_count": null,
      "outputs": [
        {
          "output_type": "stream",
          "name": "stdout",
          "text": [
            "\n",
            "Best model is from fold 2 with F1 score: 0.9280\n"
          ]
        }
      ]
    },
    {
      "cell_type": "code",
      "source": [],
      "metadata": {
        "id": "-PMdbD8BZrbG"
      },
      "execution_count": null,
      "outputs": []
    },
    {
      "cell_type": "code",
      "source": [
        "# Calculate average metrics across all folds\n",
        "avg_metrics = {\n",
        "    'accuracy': sum(result.get('eval_accuracy', 0) for result in fold_results) / len(fold_results),\n",
        "    'f1': sum(result.get('eval_f1', 0) for result in fold_results) / len(fold_results),\n",
        "    'precision': sum(result.get('eval_precision', 0) for result in fold_results) / len(fold_results),\n",
        "    'recall': sum(result.get('eval_recall', 0) for result in fold_results) / len(fold_results)\n",
        "}\n",
        "\n",
        "print(\"\\nAverage metrics across all folds:\")\n",
        "for metric, value in avg_metrics.items():\n",
        "    print(f\"{metric}: {value:.4f}\")\n"
      ],
      "metadata": {
        "colab": {
          "base_uri": "https://localhost:8080/"
        },
        "id": "I7TjUOCAOYXr",
        "outputId": "3b9aa560-8454-4a40-8cfe-15493c4125d3"
      },
      "execution_count": null,
      "outputs": [
        {
          "output_type": "stream",
          "name": "stdout",
          "text": [
            "\n",
            "Average metrics across all folds:\n",
            "accuracy: 0.9232\n",
            "f1: 0.9231\n",
            "precision: 0.9232\n",
            "recall: 0.9232\n"
          ]
        }
      ]
    },
    {
      "cell_type": "code",
      "source": [
        "# Save the best model\n",
        "best_model_dir = './improved_dialect_model'\n",
        "os.makedirs(best_model_dir, exist_ok=True)\n",
        "best_model.save_pretrained(best_model_dir)\n",
        "tokenizer.save_pretrained(best_model_dir)\n",
        "\n",
        "# Save region labels mapping\n",
        "with open(os.path.join(best_model_dir, \"region_labels.json\"), \"w\", encoding=\"utf-8\") as f:\n",
        "    json.dump(region_labels, f, ensure_ascii=False, indent=4)\n",
        "\n",
        "print(f\"Best model saved to {best_model_dir}\")"
      ],
      "metadata": {
        "colab": {
          "base_uri": "https://localhost:8080/"
        },
        "id": "IPaZzBK9OsMa",
        "outputId": "2b6f9041-aa35-4a44-d19b-3f9df2543516"
      },
      "execution_count": null,
      "outputs": [
        {
          "output_type": "stream",
          "name": "stderr",
          "text": [
            "Saving vocabulary to ./improved_dialect_model/vocab.txt: vocabulary indices are not consecutive. Please check that the vocabulary is not corrupted!\n",
            "Saving vocabulary to ./improved_dialect_model/vocab.txt: vocabulary indices are not consecutive. Please check that the vocabulary is not corrupted!\n",
            "Saving vocabulary to ./improved_dialect_model/vocab.txt: vocabulary indices are not consecutive. Please check that the vocabulary is not corrupted!\n",
            "Saving vocabulary to ./improved_dialect_model/vocab.txt: vocabulary indices are not consecutive. Please check that the vocabulary is not corrupted!\n",
            "Saving vocabulary to ./improved_dialect_model/vocab.txt: vocabulary indices are not consecutive. Please check that the vocabulary is not corrupted!\n",
            "Saving vocabulary to ./improved_dialect_model/vocab.txt: vocabulary indices are not consecutive. Please check that the vocabulary is not corrupted!\n",
            "Saving vocabulary to ./improved_dialect_model/vocab.txt: vocabulary indices are not consecutive. Please check that the vocabulary is not corrupted!\n",
            "Saving vocabulary to ./improved_dialect_model/vocab.txt: vocabulary indices are not consecutive. Please check that the vocabulary is not corrupted!\n",
            "Saving vocabulary to ./improved_dialect_model/vocab.txt: vocabulary indices are not consecutive. Please check that the vocabulary is not corrupted!\n",
            "Saving vocabulary to ./improved_dialect_model/vocab.txt: vocabulary indices are not consecutive. Please check that the vocabulary is not corrupted!\n"
          ]
        },
        {
          "output_type": "stream",
          "name": "stdout",
          "text": [
            "Best model saved to ./improved_dialect_model\n"
          ]
        }
      ]
    },
    {
      "cell_type": "code",
      "source": [
        "import os, json\n",
        "\n",
        "save_dir = \"/content/improved_bangla_bert_base_model\"\n",
        "os.makedirs(save_dir, exist_ok=True)\n",
        "\n",
        "# Save model\n",
        "best_model.save_pretrained(save_dir)\n",
        "\n",
        "# Save tokenizer\n",
        "tokenizer.save_pretrained(save_dir)\n",
        "\n",
        "# Save region label mapping\n",
        "with open(os.path.join(save_dir, \"region_labels.json\"), \"w\", encoding=\"utf-8\") as f:\n",
        "    json.dump(region_labels, f, ensure_ascii=False, indent=4)\n",
        "\n",
        "print(\"Model, tokenizer, and region labels saved.\")\n"
      ],
      "metadata": {
        "colab": {
          "base_uri": "https://localhost:8080/"
        },
        "id": "3a0NmzY5O8Dz",
        "outputId": "03ab08b5-3cad-4fed-cb78-5337bc058c1c"
      },
      "execution_count": null,
      "outputs": [
        {
          "output_type": "stream",
          "name": "stderr",
          "text": [
            "Saving vocabulary to /content/improved_bangla_bert_base_model/vocab.txt: vocabulary indices are not consecutive. Please check that the vocabulary is not corrupted!\n",
            "Saving vocabulary to /content/improved_bangla_bert_base_model/vocab.txt: vocabulary indices are not consecutive. Please check that the vocabulary is not corrupted!\n",
            "Saving vocabulary to /content/improved_bangla_bert_base_model/vocab.txt: vocabulary indices are not consecutive. Please check that the vocabulary is not corrupted!\n",
            "Saving vocabulary to /content/improved_bangla_bert_base_model/vocab.txt: vocabulary indices are not consecutive. Please check that the vocabulary is not corrupted!\n",
            "Saving vocabulary to /content/improved_bangla_bert_base_model/vocab.txt: vocabulary indices are not consecutive. Please check that the vocabulary is not corrupted!\n",
            "Saving vocabulary to /content/improved_bangla_bert_base_model/vocab.txt: vocabulary indices are not consecutive. Please check that the vocabulary is not corrupted!\n",
            "Saving vocabulary to /content/improved_bangla_bert_base_model/vocab.txt: vocabulary indices are not consecutive. Please check that the vocabulary is not corrupted!\n",
            "Saving vocabulary to /content/improved_bangla_bert_base_model/vocab.txt: vocabulary indices are not consecutive. Please check that the vocabulary is not corrupted!\n",
            "Saving vocabulary to /content/improved_bangla_bert_base_model/vocab.txt: vocabulary indices are not consecutive. Please check that the vocabulary is not corrupted!\n",
            "Saving vocabulary to /content/improved_bangla_bert_base_model/vocab.txt: vocabulary indices are not consecutive. Please check that the vocabulary is not corrupted!\n"
          ]
        },
        {
          "output_type": "stream",
          "name": "stdout",
          "text": [
            "✅ Model, tokenizer, and region labels saved.\n"
          ]
        }
      ]
    },
    {
      "cell_type": "code",
      "source": [
        "import shutil\n",
        "\n",
        "zip_path = shutil.make_archive(save_dir, 'zip', save_dir)\n",
        "print(f\"Folder zipped at: {zip_path}\")\n",
        "from google.colab import files\n",
        "\n",
        "files.download(zip_path)\n",
        "print(\"Zip file download started.\")"
      ],
      "metadata": {
        "colab": {
          "base_uri": "https://localhost:8080/",
          "height": 53
        },
        "id": "uB6jAK8LcDPQ",
        "outputId": "81b10c4c-6e3a-4124-a70a-d52ec152c5e3"
      },
      "execution_count": null,
      "outputs": [
        {
          "output_type": "stream",
          "name": "stdout",
          "text": [
            "Folder zipped at: /content/improved_bangla_bert_base_model.zip\n"
          ]
        },
        {
          "output_type": "display_data",
          "data": {
            "text/plain": [
              "<IPython.core.display.Javascript object>"
            ],
            "application/javascript": [
              "\n",
              "    async function download(id, filename, size) {\n",
              "      if (!google.colab.kernel.accessAllowed) {\n",
              "        return;\n",
              "      }\n",
              "      const div = document.createElement('div');\n",
              "      const label = document.createElement('label');\n",
              "      label.textContent = `Downloading \"${filename}\": `;\n",
              "      div.appendChild(label);\n",
              "      const progress = document.createElement('progress');\n",
              "      progress.max = size;\n",
              "      div.appendChild(progress);\n",
              "      document.body.appendChild(div);\n",
              "\n",
              "      const buffers = [];\n",
              "      let downloaded = 0;\n",
              "\n",
              "      const channel = await google.colab.kernel.comms.open(id);\n",
              "      // Send a message to notify the kernel that we're ready.\n",
              "      channel.send({})\n",
              "\n",
              "      for await (const message of channel.messages) {\n",
              "        // Send a message to notify the kernel that we're ready.\n",
              "        channel.send({})\n",
              "        if (message.buffers) {\n",
              "          for (const buffer of message.buffers) {\n",
              "            buffers.push(buffer);\n",
              "            downloaded += buffer.byteLength;\n",
              "            progress.value = downloaded;\n",
              "          }\n",
              "        }\n",
              "      }\n",
              "      const blob = new Blob(buffers, {type: 'application/binary'});\n",
              "      const a = document.createElement('a');\n",
              "      a.href = window.URL.createObjectURL(blob);\n",
              "      a.download = filename;\n",
              "      div.appendChild(a);\n",
              "      a.click();\n",
              "      div.remove();\n",
              "    }\n",
              "  "
            ]
          },
          "metadata": {}
        },
        {
          "output_type": "display_data",
          "data": {
            "text/plain": [
              "<IPython.core.display.Javascript object>"
            ],
            "application/javascript": [
              "download(\"download_4c81ad7b-9625-479b-9e06-634a78d8c089\", \"improved_bangla_bert_base_model.zip\", 610977087)"
            ]
          },
          "metadata": {}
        },
        {
          "output_type": "stream",
          "name": "stdout",
          "text": [
            "Zip file download started.\n"
          ]
        }
      ]
    },
    {
      "cell_type": "code",
      "source": [
        "# Define a function to predict the region\n",
        "def predict_region_example(text, model, tokenizer, region_labels):\n",
        "\n",
        "    prediction_result = predict_region(text, model, tokenizer, region_labels)\n",
        "    return prediction_result['region']\n",
        "\n",
        "# Example usage\n",
        "input_text = \"ফুয়াাটায় তার গাউর ছুটো এখটা ইস্কুল থাকি পড়িয়া এসএসসি পাশ খরছে\"\n",
        "predicted_region = predict_region(input_text, best_model, tokenizer, region_labels)\n",
        "print(f\"Predicted Region: {predicted_region}\")\n"
      ],
      "metadata": {
        "colab": {
          "base_uri": "https://localhost:8080/"
        },
        "id": "UkJSVCzxQJdt",
        "outputId": "005e66a7-7b50-4336-e742-d9917d23f901"
      },
      "execution_count": null,
      "outputs": [
        {
          "output_type": "stream",
          "name": "stdout",
          "text": [
            "Predicted Region: Sylhet\n"
          ]
        }
      ]
    },
    {
      "cell_type": "code",
      "source": [
        "# Define a function to predict the region\n",
        "def predict_region_example(text, model, tokenizer, region_labels):\n",
        "\n",
        "    prediction_result = predict_region(text, model, tokenizer, region_labels)\n",
        "    return prediction_result['region']\n",
        "\n",
        "# Example usage\n",
        "input_text = \"বউদ্দিন ফর এক্কান বালা চবি দেইলাম\"\n",
        "predicted_region = predict_region(input_text, best_model, tokenizer, region_labels) # Use the best_model obtained from cross-validation\n",
        "print(f\"Predicted Region: {predicted_region}\")\n"
      ],
      "metadata": {
        "colab": {
          "base_uri": "https://localhost:8080/"
        },
        "id": "BJMaFc3TRxU6",
        "outputId": "204110d1-0d53-4376-d0fa-491ed3a52654"
      },
      "execution_count": null,
      "outputs": [
        {
          "output_type": "stream",
          "name": "stdout",
          "text": [
            "Predicted Region: Chittagong\n"
          ]
        }
      ]
    },
    {
      "cell_type": "code",
      "source": [],
      "metadata": {
        "id": "zbakOU1cpoMM"
      },
      "execution_count": null,
      "outputs": []
    },
    {
      "cell_type": "code",
      "source": [
        "# Test the model with some examples\n",
        "test_examples = [\n",
        "    \"বেশি গম লিকখো\",\n",
        "    \"আঁই যানি এডে বউত মাইফোয়া কমেন্ট ফরিবার লাই আইবো\",\n",
        "    \"আন্নেগর কি শুক্কুরবার সকালে সময় অইব\"\n",
        "]\n",
        "\n",
        "for text in test_examples:\n",
        "    region = predict_region(text, best_model, tokenizer, region_labels)\n",
        "    print(f\"\\nText: {text}\")\n",
        "    print(f\"Predicted Region: {region}\")\n"
      ],
      "metadata": {
        "colab": {
          "base_uri": "https://localhost:8080/"
        },
        "id": "8zD5CKKvR_DQ",
        "outputId": "b5e58d57-b979-4c4f-d300-6d9a8ddc2109"
      },
      "execution_count": null,
      "outputs": [
        {
          "output_type": "stream",
          "name": "stdout",
          "text": [
            "\n",
            "Text: বেশি গম লিকখো\n",
            "Predicted Region: Chittagong\n",
            "\n",
            "Text: আঁই যানি এডে বউত মাইফোয়া কমেন্ট ফরিবার লাই আইবো\n",
            "Predicted Region: Chittagong\n",
            "\n",
            "Text: আন্নেগর কি শুক্কুরবার সকালে সময় অইব\n",
            "Predicted Region: Noakhali\n"
          ]
        }
      ]
    },
    {
      "cell_type": "code",
      "source": [
        "# Helper function to load the saved model for future use\n",
        "def load_model(model_path=best_model_dir):\n",
        "    \"\"\"Load the improved dialect detection model from saved path\"\"\"\n",
        "    model = BertForSequenceClassification.from_pretrained(model_path)\n",
        "    tokenizer = BertTokenizer.from_pretrained(model_path)\n",
        "\n",
        "    # Load region labels\n",
        "    with open(os.path.join(model_path, \"region_labels.json\"), \"r\", encoding=\"utf-8\") as f:\n",
        "        region_labels = json.load(f)\n",
        "\n",
        "    return model, tokenizer, region_labels"
      ],
      "metadata": {
        "id": "Ot7xv4JdSSRp"
      },
      "execution_count": null,
      "outputs": []
    },
    {
      "cell_type": "code",
      "source": [
        "# prompt: give me final error metric\n",
        "\n",
        "print(\"\\nFinal Average Evaluation Metrics Across All Folds:\")\n",
        "for metric, value in avg_metrics.items():\n",
        "    print(f\"{metric}: {value:.4f}\")"
      ],
      "metadata": {
        "colab": {
          "base_uri": "https://localhost:8080/"
        },
        "id": "dY4gs0MtZswP",
        "outputId": "ce3c806d-b2b2-49a2-c120-afc6f9cfb2d7"
      },
      "execution_count": null,
      "outputs": [
        {
          "output_type": "stream",
          "name": "stdout",
          "text": [
            "\n",
            "Final Average Evaluation Metrics Across All Folds:\n",
            "accuracy: 0.9232\n",
            "f1: 0.9231\n",
            "precision: 0.9232\n",
            "recall: 0.9232\n"
          ]
        }
      ]
    },
    {
      "cell_type": "code",
      "source": [
        "# prompt: give me graph for traning loss and validation loss\n",
        "# grpah is not good\n",
        "# so give and I will be added in the research paper\n",
        "\n",
        "import matplotlib.pyplot as plt\n",
        "# Access the trainer's state to get logs\n",
        "# Assuming the trainer variable is available from the preceding code\n",
        "# If not, you would need to re-instantiate or find a way to access the training logs.\n",
        "# In this specific case, the logs are stored in trainer.state.log_history\n",
        "\n",
        "logs = trainer.state.log_history\n",
        "\n",
        "# Extract training and evaluation loss from logs\n",
        "train_loss = [entry['loss'] for entry in logs if 'loss' in entry]\n",
        "eval_loss = [entry['eval_loss'] for entry in logs if 'eval_loss' in entry]\n",
        "eval_steps = [entry['step'] for entry in logs if 'eval_loss' in entry]\n",
        "\n",
        "# Calculate the number of training steps per epoch for plotting\n",
        "steps_per_epoch = len(train_dataset) // training_args.per_device_train_batch_size\n",
        "train_steps = [(i + 1) * training_args.logging_steps for i in range(len(train_loss))]\n",
        "\n",
        "plt.figure(figsize=(12, 6))\n",
        "\n",
        "# Plot Training Loss\n",
        "plt.plot(train_steps, train_loss, label='Training Loss', color='blue', marker='o', linestyle='-', markersize=4)\n",
        "\n",
        "# Plot Validation Loss (aligned with evaluation steps)\n",
        "# We need to make sure the eval_loss points correspond to the correct steps\n",
        "# The log_history records eval_loss at specific steps, so we use those steps.\n",
        "plt.plot(eval_steps, eval_loss, label='Validation Loss', color='red', marker='x', linestyle='--', markersize=6)\n",
        "\n",
        "\n",
        "plt.xlabel('Training Steps', fontsize=12)\n",
        "plt.ylabel('Loss Value', fontsize=12)\n",
        "plt.title('Training and Validation Loss Curve', fontsize=14)\n",
        "plt.legend(fontsize=10)\n",
        "plt.grid(True, linestyle='--', alpha=0.6)\n",
        "plt.tight_layout() # Adjust layout to prevent labels overlapping\n",
        "plt.show()\n",
        "\n",
        "print(\"\\nNote: The x-axis represents training steps. Validation loss is plotted at the steps where evaluation occurred.\")\n"
      ],
      "metadata": {
        "colab": {
          "base_uri": "https://localhost:8080/",
          "height": 529
        },
        "id": "sy2W1SbRe2dW",
        "outputId": "db0f8bed-bfee-4594-8fbf-a5769813656f"
      },
      "execution_count": null,
      "outputs": [
        {
          "output_type": "display_data",
          "data": {
            "text/plain": [
              "<Figure size 1200x600 with 1 Axes>"
            ],
            "image/png": "[encoded data removed]"
          },
          "metadata": {}
        },
        {
          "output_type": "stream",
          "name": "stdout",
          "text": [
            "\n",
            "Note: The x-axis represents training steps. Validation loss is plotted at the steps where evaluation occurred.\n"
          ]
        }
      ]
    },
    {
      "cell_type": "code",
      "source": [
        "\n",
        "import matplotlib.pyplot as plt\n",
        "import numpy as np\n",
        "\n",
        "# Extract metrics for plotting from fold_results\n",
        "folds = range(1, k_folds + 1)\n",
        "eval_accuracy = [result.get('eval_accuracy', 0) for result in fold_results]\n",
        "eval_f1 = [result.get('eval_f1', 0) for result in fold_results]\n",
        "eval_precision = [result.get('eval_precision', 0) for result in fold_results]\n",
        "eval_recall = [result.get('eval_recall', 0) for result in fold_results]\n",
        "\n",
        "# Plotting\n",
        "plt.figure(figsize=(12, 8))\n",
        "\n",
        "bar_width = 0.2\n",
        "\n",
        "r1 = np.arange(len(folds))\n",
        "r2 = [x + bar_width for x in r1]\n",
        "r3 = [x + bar_width for x in r2]\n",
        "r4 = [x + bar_width for x in r3]\n",
        "\n",
        "plt.bar(r1, eval_accuracy, color='skyblue', width=bar_width, edgecolor='grey', label='Accuracy')\n",
        "plt.bar(r2, eval_f1, color='lightcoral', width=bar_width, edgecolor='grey', label='F1-Score')\n",
        "plt.bar(r3, eval_precision, color='lightgreen', width=bar_width, edgecolor='grey', label='Precision')\n",
        "plt.bar(r4, eval_recall, color='gold', width=bar_width, edgecolor='grey', label='Recall')\n",
        "\n",
        "plt.xlabel('Fold Number', fontsize=12)\n",
        "plt.ylabel('Score', fontsize=12)\n",
        "plt.title('Evaluation Metrics Across All K-Folds', fontsize=14)\n",
        "plt.xticks([r + bar_width*1.5 for r in range(len(folds))], folds) # Adjust x-ticks positions\n",
        "plt.ylim(0, 1.1) # Set y-axis limit from 0 to 1.1 to better visualize scores\n",
        "plt.legend(fontsize=10)\n",
        "plt.grid(axis='y', linestyle='--', alpha=0.6)\n",
        "plt.tight_layout()\n",
        "plt.show()\n",
        "\n",
        "print(\"\\nThis graph shows the performance metrics (Accuracy, F1-Score, Precision, Recall) for each of the 5 cross-validation folds.\")\n"
      ],
      "metadata": {
        "colab": {
          "base_uri": "https://localhost:8080/",
          "height": 689
        },
        "id": "onnK7b--fchN",
        "outputId": "f0adc447-74ed-4ebf-f883-b79ef1d8ef01"
      },
      "execution_count": null,
      "outputs": [
        {
          "output_type": "display_data",
          "data": {
            "text/plain": [
              "<Figure size 1200x800 with 1 Axes>"
            ],
            "image/png": "[encoded data removed]"
          },
          "metadata": {}
        },
        {
          "output_type": "stream",
          "name": "stdout",
          "text": [
            "\n",
            "This graph shows the performance metrics (Accuracy, F1-Score, Precision, Recall) for each of the 5 cross-validation folds.\n"
          ]
        }
      ]
    }
  ]
}